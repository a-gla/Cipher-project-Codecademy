{
 "cells": [
  {
   "cell_type": "code",
   "execution_count": 1,
   "id": "80ea9839",
   "metadata": {},
   "outputs": [],
   "source": [
    "alphabet = ' a b c d e f g h i j k l m n o p q r s t u v w x y z'.replace(' ', '')"
   ]
  },
  {
   "cell_type": "code",
   "execution_count": 2,
   "id": "c065f151",
   "metadata": {},
   "outputs": [],
   "source": [
    "# function to decipher message written in Caesar Cipher\n",
    "def decipher_msg(message, offset):\n",
    "  translated_message = ''\n",
    "  for char in message:\n",
    "    if char in alphabet:\n",
    "      char_value = alphabet.find(char)\n",
    "      translated_message += alphabet[(char_value + offset) % 26]\n",
    "    else:\n",
    "      translated_message += char\n",
    "  return translated_message"
   ]
  },
  {
   "cell_type": "code",
   "execution_count": 3,
   "id": "3127cec3",
   "metadata": {},
   "outputs": [
    {
     "data": {
      "text/plain": [
       "'this is the decoded message'"
      ]
     },
     "execution_count": 3,
     "metadata": {},
     "output_type": "execute_result"
    }
   ],
   "source": [
    "# testing function\n",
    "cc_message_decode = \"jxyi yi jxu tusetut cuiiqwu\"\n",
    "cc_offset_decode = 10\n",
    "decipher_msg(cc_message_decode,cc_offset_decode)"
   ]
  },
  {
   "cell_type": "code",
   "execution_count": 4,
   "id": "301b921a",
   "metadata": {},
   "outputs": [],
   "source": [
    "# function to encode a message into Caesar Cipher\n",
    "def encode_msg(message, offset):\n",
    "  my_cipher = ''\n",
    "  for char in message:\n",
    "    if char in alphabet:\n",
    "      char_value = alphabet.find(char)\n",
    "      my_cipher += alphabet[(char_value + offset) % 26]\n",
    "    else:\n",
    "      my_cipher += char\n",
    "  return my_cipher"
   ]
  },
  {
   "cell_type": "code",
   "execution_count": 5,
   "id": "65377286",
   "metadata": {},
   "outputs": [
    {
     "data": {
      "text/plain": [
       "'jxyi yi jxu udsetut cuiiqwu'"
      ]
     },
     "execution_count": 5,
     "metadata": {},
     "output_type": "execute_result"
    }
   ],
   "source": [
    "# testing function\n",
    "cc_message_encode = \"this is the encoded message\"\n",
    "cc_offset_encode = -10\n",
    "encode_msg(cc_message_encode,cc_offset_encode)"
   ]
  },
  {
   "cell_type": "code",
   "execution_count": 6,
   "id": "92dd5a34",
   "metadata": {},
   "outputs": [],
   "source": [
    "# function to decipher message written in Vigenere Cipher\n",
    "def v_decode_msg(message, code):\n",
    "  my_v_translation = ''\n",
    "  n_code = ''\n",
    "  ctr = 0\n",
    "  for char in message:\n",
    "    if char in alphabet:\n",
    "      n_code += code[ctr % len(code)]\n",
    "      ctr += 1\n",
    "    else:\n",
    "      n_code += char\n",
    "  ctr2 = 0\n",
    "  for char in message:\n",
    "    if char in alphabet:\n",
    "      char_value = alphabet.find(char)\n",
    "      code_value = alphabet.find(n_code[ctr2])\n",
    "      my_v_translation += alphabet[(char_value + code_value) % 26]\n",
    "    else:\n",
    "      my_v_translation += char\n",
    "    ctr2 += 1\n",
    "  return my_v_translation"
   ]
  },
  {
   "cell_type": "code",
   "execution_count": 7,
   "id": "7746019d",
   "metadata": {},
   "outputs": [
    {
     "data": {
      "text/plain": [
       "'this is a message decoded from vigenere cipher'"
      ]
     },
     "execution_count": 7,
     "metadata": {},
     "output_type": "execute_result"
    }
   ],
   "source": [
    "# testing function\n",
    "vc_message_decode = 'qtcp um x yypeudq xboiaqx cdij hcdqhbdy zujeql'\n",
    "vc_code_decode = 'dog'\n",
    "v_decode_msg(vc_message_decode, vc_code_decode)"
   ]
  },
  {
   "cell_type": "code",
   "execution_count": 8,
   "id": "95bcb0fe",
   "metadata": {},
   "outputs": [],
   "source": [
    "def v_encode_msg(message, code):\n",
    "  my_v_cipher = ''\n",
    "  n_code = ''\n",
    "  ctr = 0\n",
    "  for char in message:\n",
    "    if char in alphabet:\n",
    "      n_code += code[ctr % len(code)]\n",
    "      ctr += 1\n",
    "    else:\n",
    "      n_code += char\n",
    "  ctr2 = 0\n",
    "  for char in message:\n",
    "    if char in alphabet:\n",
    "      char_value = alphabet.find(char)\n",
    "      code_value = alphabet.find(n_code[ctr2])\n",
    "      my_v_cipher += alphabet[(char_value - code_value) % 26]\n",
    "      # new_char_i.append((char_value - code_value) % 26)\n",
    "    else:\n",
    "      my_v_cipher += char\n",
    "    ctr2 += 1\n",
    "  return my_v_cipher"
   ]
  },
  {
   "cell_type": "code",
   "execution_count": 9,
   "id": "633e1fc1",
   "metadata": {},
   "outputs": [
    {
     "data": {
      "text/plain": [
       "'qtcp um x yypeudq ykoiaqx qa pfsykqlb ocmtyo'"
      ]
     },
     "execution_count": 9,
     "metadata": {},
     "output_type": "execute_result"
    }
   ],
   "source": [
    "# testing function\n",
    "vc_message_encode = 'this is a message encoded to vigenere cipher'\n",
    "vc_code_encode = 'dog'\n",
    "v_encode_msg(vc_message_encode, vc_code_encode)"
   ]
  },
  {
   "cell_type": "code",
   "execution_count": null,
   "id": "650eac03",
   "metadata": {},
   "outputs": [],
   "source": []
  }
 ],
 "metadata": {
  "kernelspec": {
   "display_name": "Python 3 (ipykernel)",
   "language": "python",
   "name": "python3"
  },
  "language_info": {
   "codemirror_mode": {
    "name": "ipython",
    "version": 3
   },
   "file_extension": ".py",
   "mimetype": "text/x-python",
   "name": "python",
   "nbconvert_exporter": "python",
   "pygments_lexer": "ipython3",
   "version": "3.9.13"
  }
 },
 "nbformat": 4,
 "nbformat_minor": 5
}
